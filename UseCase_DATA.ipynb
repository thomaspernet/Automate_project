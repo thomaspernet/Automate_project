{
 "cells": [
  {
   "cell_type": "markdown",
   "metadata": {
    "Collapsed": "false"
   },
   "source": [
    "# Use case Batica"
   ]
  },
  {
   "cell_type": "markdown",
   "metadata": {},
   "source": [
    "## Load data"
   ]
  },
  {
   "cell_type": "code",
   "execution_count": null,
   "metadata": {
    "Collapsed": "false"
   },
   "outputs": [],
   "source": [
    "import pandas as pd\n",
    "import ipywidgets as widgets\n",
    "from IPython.display import display\n",
    "import numpy as np"
   ]
  },
  {
   "cell_type": "code",
   "execution_count": null,
   "metadata": {
    "Collapsed": "false"
   },
   "outputs": [],
   "source": [
    "df_excel = pd.read_excel(\n",
    "    'data_catalogue.xlsx')"
   ]
  },
  {
   "cell_type": "markdown",
   "metadata": {},
   "source": [
    "## Vue macro Catalog"
   ]
  },
  {
   "cell_type": "code",
   "execution_count": null,
   "metadata": {},
   "outputs": [],
   "source": [
    "print(\"Le catalogue contient {0} observations, dont {1} valeurs uniques\".format(\n",
    "    df_excel.shape[0], \n",
    "    df_excel['Filename'].nunique())\n",
    "     )"
   ]
  },
  {
   "cell_type": "code",
   "execution_count": null,
   "metadata": {},
   "outputs": [],
   "source": [
    "(df_excel\n",
    " .groupby(['Storage','Theme'])['Theme']\n",
    " .count()\n",
    " .unstack(level = 1)\n",
    " .fillna(0)\n",
    " .assign(total = lambda x: x.sum(axis = 1))\n",
    " .sort_values(by = 'total', ascending = False)\n",
    " .T\n",
    " .sort_values(by = 'GCS', ascending = False)\n",
    " .style\n",
    " .background_gradient(cmap='Blues')\n",
    " #.bar(subset=['total'], color='#d65f5f')\n",
    " .format(\"{:0}\")\n",
    ")"
   ]
  },
  {
   "cell_type": "code",
   "execution_count": null,
   "metadata": {
    "scrolled": false
   },
   "outputs": [],
   "source": [
    "(df_excel\n",
    " .groupby(['Theme', 'Filename'])['Filename']\n",
    " .nunique()\n",
    " .unstack(level = 1)\n",
    " .fillna(0)\n",
    " .assign(total = lambda x: x.sum(axis = 1))\n",
    " .sort_values(by = 'total', ascending = False)\n",
    " .T\n",
    " .sort_values(by = 'Trade', ascending = False)\n",
    " #.loc[lambda x: x['total'] > 1]\n",
    " .style\n",
    " .background_gradient(cmap='Blues')\n",
    " #.bar(subset=['total'], color='#d65f5f')\n",
    " .format(\"{:0}\")\n",
    ")"
   ]
  },
  {
   "cell_type": "markdown",
   "metadata": {
    "heading_collapsed": true
   },
   "source": [
    "# Recherche avancée: Macro"
   ]
  },
  {
   "cell_type": "markdown",
   "metadata": {
    "heading_collapsed": true,
    "hidden": true
   },
   "source": [
    "### Code app"
   ]
  },
  {
   "cell_type": "code",
   "execution_count": null,
   "metadata": {
    "hidden": true
   },
   "outputs": [],
   "source": [
    "(df_excel\n",
    "               .groupby(['Theme', 'Filename'])['Filename']\n",
    "               .nunique()\n",
    "               .unstack(level=0)\n",
    " .fillna(0)\n",
    " #.droplevel('Filename', axis = 0)\n",
    " #.xs(('Accountancy'), level=('Theme'), axis=1)\n",
    " .loc[:,('Accountancy')]\n",
    " .loc[lambda x: x>0]\n",
    ")"
   ]
  },
  {
   "cell_type": "code",
   "execution_count": null,
   "metadata": {
    "hidden": true
   },
   "outputs": [],
   "source": [
    "def dropdown_theme_eventhandler(change):\n",
    "    \n",
    "    with output_theme:\n",
    "        output_theme.clear_output()\n",
    "        if (change.new == 'ALL'):\n",
    "            df_ = (df_excel\n",
    "               .groupby(['Theme', 'Filename'])['Filename']\n",
    "               .nunique()\n",
    "               .unstack(level=[0])\n",
    "               .fillna(0)\n",
    "               .loc[lambda x: x>0]\n",
    "               #.loc[:,(theme)]\n",
    "               #.assign(total=lambda x: x.sum(axis=1))\n",
    "               #.sort_values(by='total', ascending=False)\n",
    "               #.loc[lambda x: ~x['total'].isin([0])]\n",
    "               )\n",
    "            display(df_)\n",
    "        else:\n",
    "            df_ = (df_excel\n",
    "               .groupby(['Theme', 'Filename'])['Filename']\n",
    "               .nunique()\n",
    "               .unstack(level=[0])\n",
    "               .fillna(0)\n",
    "               .loc[:,(change.new)]\n",
    "                .loc[lambda x: x>0]\n",
    "                   .reset_index()\n",
    "               #.xs((change.new), level=('Theme'), axis=1)\n",
    "               #.assign(total=lambda x: x.sum(axis=1))\n",
    "               #.sort_values(by='total', ascending=False)\n",
    "               #.loc[lambda x: ~x['total'].isin([0])]\n",
    "               )\n",
    "            display(df_)"
   ]
  },
  {
   "cell_type": "markdown",
   "metadata": {},
   "source": [
    "# App Macro"
   ]
  },
  {
   "cell_type": "code",
   "execution_count": null,
   "metadata": {},
   "outputs": [],
   "source": [
    "dropdown_theme = widgets.Dropdown(\n",
    "    options = np.append([df_excel['Theme'].sort_values().unique()],\n",
    "                        ['ALL']))\n",
    "output_theme = widgets.Output()\n",
    "\n",
    "dropdown_theme.observe(dropdown_theme_eventhandler, names='value')\n",
    "display(dropdown_theme)"
   ]
  },
  {
   "cell_type": "code",
   "execution_count": null,
   "metadata": {},
   "outputs": [],
   "source": [
    "display(output_theme)"
   ]
  },
  {
   "cell_type": "markdown",
   "metadata": {
    "heading_collapsed": true
   },
   "source": [
    "# Recherche avancée: Micro"
   ]
  },
  {
   "cell_type": "markdown",
   "metadata": {
    "heading_collapsed": true,
    "hidden": true
   },
   "source": [
    "### Prepare App"
   ]
  },
  {
   "cell_type": "code",
   "execution_count": null,
   "metadata": {
    "hidden": true
   },
   "outputs": [],
   "source": [
    "def return_df(theme, module, fournisseur):\n",
    "    df_ = df_excel.loc[\n",
    "        lambda x:\n",
    "        (x['Theme'].isin([theme]))\n",
    "        & (x['Storage'].isin([module]))\n",
    "        & (x['Filename'].isin([fournisseur]))\n",
    "    ]\n",
    "\n",
    "    def make_clickable(val):\n",
    "        return '<a href=\"{}\">{}</a>'.format(val, val)\n",
    "\n",
    "    display(df_.style.format(make_clickable, subset=\"Source_data\"))\n",
    "\n",
    "\n",
    "# Theme\n",
    "unique_theme = (df_excel['Theme'].sort_values().unique())\n",
    "themeW = widgets.Dropdown(options=unique_theme)\n",
    "init = themeW.value\n",
    "\n",
    "### Theme: Module\n",
    "\n",
    "moduleW = widgets.Dropdown(options=(df_excel\n",
    "                                    .loc[lambda x: x['Theme']\n",
    "                                         .isin([init])]['Storage']\n",
    "                                    .sort_values()\n",
    "                                    .unique()\n",
    "                                    ))\n",
    "init2 = moduleW.value\n",
    "\n",
    "\n",
    "def select_module(theme):\n",
    "    moduleW.options = (df_excel\n",
    "                       .loc[lambda x: x['Theme']\n",
    "                            .isin([theme])]['Storage']\n",
    "                       .sort_values()\n",
    "                       .unique()\n",
    "                       )\n",
    "\n",
    "\n",
    "# Select fournisseur\n",
    "fournisseurtW = widgets.Dropdown(options=(df_excel\n",
    "                                          .loc[lambda x: \n",
    "                                               (x['Theme']\n",
    "                                               .isin([init]))\n",
    "                                              & (x['Storage']\n",
    "                                               .isin([init2]))\n",
    "                                              ]['Filename']\n",
    "                                          .sort_values()\n",
    "                                          .unique()\n",
    "                                          ))\n",
    "\n",
    "\n",
    "def select_fournisseur(theme, module):\n",
    "    fournisseurtW.options = (df_excel\n",
    "                             .loc[lambda x: \n",
    "                                               (x['Theme']\n",
    "                                               .isin([theme]))\n",
    "                                              & (x['Storage']\n",
    "                                               .isin([module]))\n",
    "                                              ]['Filename']\n",
    "                             .sort_values()\n",
    "                             .unique()\n",
    "                             )\n",
    "\n",
    "\n",
    "i = widgets.interactive(select_module, theme=themeW)\n",
    "\n",
    "j = widgets.interactive(\n",
    "    return_df,\n",
    "    theme=themeW,\n",
    "    module=moduleW,\n",
    "    fournisseur=fournisseurtW)\n",
    "\n",
    "k = widgets.interactive(select_fournisseur, theme = themeW, module=moduleW)"
   ]
  },
  {
   "cell_type": "markdown",
   "metadata": {},
   "source": [
    "# App Micro"
   ]
  },
  {
   "cell_type": "code",
   "execution_count": null,
   "metadata": {
    "scrolled": false
   },
   "outputs": [],
   "source": [
    "display(j)"
   ]
  },
  {
   "cell_type": "code",
   "execution_count": null,
   "metadata": {},
   "outputs": [],
   "source": []
  }
 ],
 "metadata": {
  "kernelspec": {
   "display_name": "Python 3",
   "language": "python",
   "name": "python3"
  },
  "language_info": {
   "codemirror_mode": {
    "name": "ipython",
    "version": 3
   },
   "file_extension": ".py",
   "mimetype": "text/x-python",
   "name": "python",
   "nbconvert_exporter": "python",
   "pygments_lexer": "ipython3",
   "version": "3.7.4"
  },
  "toc": {
   "base_numbering": 1,
   "nav_menu": {},
   "number_sections": true,
   "sideBar": true,
   "skip_h1_title": false,
   "title_cell": "Table of Contents",
   "title_sidebar": "Contents",
   "toc_cell": false,
   "toc_position": {
    "height": "calc(100% - 180px)",
    "left": "10px",
    "top": "150px",
    "width": "233.6px"
   },
   "toc_section_display": true,
   "toc_window_display": false
  }
 },
 "nbformat": 4,
 "nbformat_minor": 4
}
